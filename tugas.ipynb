{
  "nbformat": 4,
  "nbformat_minor": 0,
  "metadata": {
    "colab": {
      "provenance": [],
      "toc_visible": true,
      "authorship_tag": "ABX9TyM0Ds2cIUyzhPOMR/jUiAp2",
      "include_colab_link": true
    },
    "kernelspec": {
      "name": "python3",
      "display_name": "Python 3"
    },
    "language_info": {
      "name": "python"
    }
  },
  "cells": [
    {
      "cell_type": "markdown",
      "metadata": {
        "id": "view-in-github",
        "colab_type": "text"
      },
      "source": [
        "<a href=\"https://colab.research.google.com/github/qaribaldi/tugaspy/blob/main/tugas.ipynb\" target=\"_parent\"><img src=\"https://colab.research.google.com/assets/colab-badge.svg\" alt=\"Open In Colab\"/></a>"
      ]
    },
    {
      "cell_type": "code",
      "execution_count": null,
      "metadata": {
        "id": "Mr8Fx7u0P1T0"
      },
      "outputs": [],
      "source": [
        "import pandas as pd"
      ]
    },
    {
      "cell_type": "code",
      "source": [
        "data = {\n",
        "    'usia' : [34, 43, 49, 58, 64, 73, 78, 60, 45, 50],\n",
        "    'tinggi badan' : [160, 150, 155, 165, 170, 168, 160, 150, 175, 165],\n",
        "    'berat badan' : [45, 44, 56, 60, 70, 66, 55, 45, 60, 55],\n",
        "    'tekanan darah' : [108, 128, 126, 149, 168, 161, 174, 108, 120, 118]\n",
        "}"
      ],
      "metadata": {
        "id": "i3OqL1f2QKSG"
      },
      "execution_count": null,
      "outputs": []
    },
    {
      "cell_type": "code",
      "source": [
        "df = pd.DataFrame(data)"
      ],
      "metadata": {
        "id": "2GR3TVzrRRyk"
      },
      "execution_count": null,
      "outputs": []
    },
    {
      "cell_type": "code",
      "source": [
        "print(df)"
      ],
      "metadata": {
        "colab": {
          "base_uri": "https://localhost:8080/"
        },
        "id": "AjJnM4mNRZ3q",
        "outputId": "3e0da5a5-78e8-456b-d8ff-d89114d2026f"
      },
      "execution_count": null,
      "outputs": [
        {
          "output_type": "stream",
          "name": "stdout",
          "text": [
            "   usia  tinggi badan  berat badan  tekanan darah\n",
            "0    34           160           45            108\n",
            "1    43           150           44            128\n",
            "2    49           155           56            126\n",
            "3    58           165           60            149\n",
            "4    64           170           70            168\n",
            "5    73           168           66            161\n",
            "6    78           160           55            174\n",
            "7    60           150           45            108\n",
            "8    45           175           60            120\n",
            "9    50           165           55            118\n"
          ]
        }
      ]
    },
    {
      "cell_type": "code",
      "source": [
        "Y = df[\"tekanan darah\"]"
      ],
      "metadata": {
        "id": "bVwZnq9sRr0i"
      },
      "execution_count": null,
      "outputs": []
    },
    {
      "cell_type": "code",
      "source": [
        "korelasi = df.corr()[\"tekanan darah\"].drop(\"tekanan darah\")"
      ],
      "metadata": {
        "id": "8XQgqHisRzA8"
      },
      "execution_count": null,
      "outputs": []
    },
    {
      "cell_type": "code",
      "source": [
        "threshold = 0.6"
      ],
      "metadata": {
        "id": "EEeVU8f3SC9A"
      },
      "execution_count": null,
      "outputs": []
    },
    {
      "cell_type": "code",
      "source": [
        "fiturYangDipilih = korelasi[abs(korelasi) >= threshold].index.tolist()"
      ],
      "metadata": {
        "id": "NXJrCp2NWrIJ"
      },
      "execution_count": null,
      "outputs": []
    },
    {
      "cell_type": "code",
      "source": [
        "print(\"korelasi antara variabel X dan Y:\")\n",
        "print(korelasi)\n",
        "print(f\"\\nVariabel yang dipilih dengan korelasi >= {threshold}: {fiturYangDipilih}\")"
      ],
      "metadata": {
        "colab": {
          "base_uri": "https://localhost:8080/"
        },
        "id": "g-NY9evHW88z",
        "outputId": "17eb3b92-a185-4e45-d240-735e97a07e48"
      },
      "execution_count": null,
      "outputs": [
        {
          "output_type": "stream",
          "name": "stdout",
          "text": [
            "korelasi antara variabel X dan Y:\n",
            "usia            0.810815\n",
            "tinggi badan    0.354419\n",
            "berat badan     0.690550\n",
            "Name: tekanan darah, dtype: float64\n",
            "\n",
            "Variabel yang dipilih dengan korelasi >= 0.6: ['usia', 'berat badan']\n"
          ]
        }
      ]
    },
    {
      "cell_type": "code",
      "source": [
        "from sklearn.decomposition import PCA\n",
        "from sklearn.preprocessing import StandardScaler"
      ],
      "metadata": {
        "id": "EgB6xFrBXlip"
      },
      "execution_count": null,
      "outputs": []
    },
    {
      "cell_type": "code",
      "source": [
        "X_yangDipilih = df[fiturYangDipilih]"
      ],
      "metadata": {
        "id": "OkDYaJT8YdxG"
      },
      "execution_count": null,
      "outputs": []
    },
    {
      "cell_type": "code",
      "source": [
        "pca = PCA(n_components=2)\n",
        "X_pca = pca.fit_transform(X_yangDipilih)"
      ],
      "metadata": {
        "id": "XliBXTuiYnWr"
      },
      "execution_count": null,
      "outputs": []
    },
    {
      "cell_type": "code",
      "source": [
        "print(\"hasil pca (2 komponen utama):\")\n",
        "print(X_pca)"
      ],
      "metadata": {
        "colab": {
          "base_uri": "https://localhost:8080/"
        },
        "id": "dRnFYBiNbSXF",
        "outputId": "4448485b-5d92-41ea-d4db-30b52d5943a2"
      },
      "execution_count": null,
      "outputs": [
        {
          "output_type": "stream",
          "name": "stdout",
          "text": [
            "hasil pca (2 komponen utama):\n",
            "[[-23.87129195  -0.69384483]\n",
            " [-16.11140941  -5.361202  ]\n",
            " [ -5.64807058   3.03632981]\n",
            " [  4.20000294   2.91203972]\n",
            " [ 13.82806537   9.4923447 ]\n",
            " [ 20.33503333   2.09914729]\n",
            " [ 20.28408027  -9.98379125]\n",
            " [ -0.24734315 -11.5524379 ]\n",
            " [ -7.61197146   8.34133625]\n",
            " [ -5.15709536   1.7100782 ]]\n"
          ]
        }
      ]
    },
    {
      "cell_type": "code",
      "source": [],
      "metadata": {
        "id": "kiH2gKCDcQ_1"
      },
      "execution_count": null,
      "outputs": []
    }
  ]
}